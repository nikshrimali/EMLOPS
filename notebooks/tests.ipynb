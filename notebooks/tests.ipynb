{
 "cells": [
  {
   "cell_type": "code",
   "execution_count": 3,
   "source": [
    "import pandas as pd\n"
   ],
   "outputs": [],
   "metadata": {}
  },
  {
   "cell_type": "code",
   "execution_count": 4,
   "source": [
    "df = pd.read_csv('metrics.csv')"
   ],
   "outputs": [],
   "metadata": {}
  },
  {
   "cell_type": "code",
   "execution_count": 5,
   "source": [
    "display(df)"
   ],
   "outputs": [
    {
     "output_type": "display_data",
     "data": {
      "text/html": [
       "<div>\n",
       "<style scoped>\n",
       "    .dataframe tbody tr th:only-of-type {\n",
       "        vertical-align: middle;\n",
       "    }\n",
       "\n",
       "    .dataframe tbody tr th {\n",
       "        vertical-align: top;\n",
       "    }\n",
       "\n",
       "    .dataframe thead th {\n",
       "        text-align: right;\n",
       "    }\n",
       "</style>\n",
       "<table border=\"1\" class=\"dataframe\">\n",
       "  <thead>\n",
       "    <tr style=\"text-align: right;\">\n",
       "      <th></th>\n",
       "      <th>Unnamed: 0</th>\n",
       "      <th>Epoch</th>\n",
       "      <th>Train_loss</th>\n",
       "      <th>Train_acc</th>\n",
       "      <th>Test_loss</th>\n",
       "      <th>Test_acc</th>\n",
       "      <th>Cats_Accuracy</th>\n",
       "      <th>Dogs_Accuracy</th>\n",
       "    </tr>\n",
       "  </thead>\n",
       "  <tbody>\n",
       "    <tr>\n",
       "      <th>0</th>\n",
       "      <td>0</td>\n",
       "      <td>0</td>\n",
       "      <td>tensor(55.7751)</td>\n",
       "      <td>0.746188</td>\n",
       "      <td>tensor(0.0038)</td>\n",
       "      <td>tensor(50.)</td>\n",
       "      <td>0.00</td>\n",
       "      <td>100.00</td>\n",
       "    </tr>\n",
       "    <tr>\n",
       "      <th>1</th>\n",
       "      <td>1</td>\n",
       "      <td>1</td>\n",
       "      <td>tensor(60.8303)</td>\n",
       "      <td>0.740417</td>\n",
       "      <td>tensor(0.0038)</td>\n",
       "      <td>tensor(50.)</td>\n",
       "      <td>0.00</td>\n",
       "      <td>100.00</td>\n",
       "    </tr>\n",
       "    <tr>\n",
       "      <th>2</th>\n",
       "      <td>2</td>\n",
       "      <td>2</td>\n",
       "      <td>tensor(64.8106)</td>\n",
       "      <td>0.722234</td>\n",
       "      <td>tensor(0.0039)</td>\n",
       "      <td>tensor(50.)</td>\n",
       "      <td>0.00</td>\n",
       "      <td>100.00</td>\n",
       "    </tr>\n",
       "    <tr>\n",
       "      <th>3</th>\n",
       "      <td>3</td>\n",
       "      <td>3</td>\n",
       "      <td>tensor(61.2101)</td>\n",
       "      <td>0.717208</td>\n",
       "      <td>tensor(0.0040)</td>\n",
       "      <td>tensor(49.8750)</td>\n",
       "      <td>0.00</td>\n",
       "      <td>99.75</td>\n",
       "    </tr>\n",
       "    <tr>\n",
       "      <th>4</th>\n",
       "      <td>4</td>\n",
       "      <td>4</td>\n",
       "      <td>tensor(64.0697)</td>\n",
       "      <td>0.713393</td>\n",
       "      <td>tensor(0.0040)</td>\n",
       "      <td>tensor(52.5000)</td>\n",
       "      <td>8.75</td>\n",
       "      <td>96.25</td>\n",
       "    </tr>\n",
       "    <tr>\n",
       "      <th>5</th>\n",
       "      <td>5</td>\n",
       "      <td>5</td>\n",
       "      <td>tensor(66.6732)</td>\n",
       "      <td>0.699119</td>\n",
       "      <td>tensor(0.0038)</td>\n",
       "      <td>tensor(58.6250)</td>\n",
       "      <td>23.75</td>\n",
       "      <td>93.50</td>\n",
       "    </tr>\n",
       "    <tr>\n",
       "      <th>6</th>\n",
       "      <td>6</td>\n",
       "      <td>6</td>\n",
       "      <td>tensor(66.5678)</td>\n",
       "      <td>0.704577</td>\n",
       "      <td>tensor(0.0037)</td>\n",
       "      <td>tensor(60.7500)</td>\n",
       "      <td>29.25</td>\n",
       "      <td>92.25</td>\n",
       "    </tr>\n",
       "    <tr>\n",
       "      <th>7</th>\n",
       "      <td>7</td>\n",
       "      <td>7</td>\n",
       "      <td>tensor(67.8409)</td>\n",
       "      <td>0.691738</td>\n",
       "      <td>tensor(0.0035)</td>\n",
       "      <td>tensor(65.7500)</td>\n",
       "      <td>40.25</td>\n",
       "      <td>91.25</td>\n",
       "    </tr>\n",
       "    <tr>\n",
       "      <th>8</th>\n",
       "      <td>8</td>\n",
       "      <td>8</td>\n",
       "      <td>tensor(66.5045)</td>\n",
       "      <td>0.690874</td>\n",
       "      <td>tensor(0.0036)</td>\n",
       "      <td>tensor(67.5000)</td>\n",
       "      <td>72.25</td>\n",
       "      <td>62.75</td>\n",
       "    </tr>\n",
       "    <tr>\n",
       "      <th>9</th>\n",
       "      <td>9</td>\n",
       "      <td>9</td>\n",
       "      <td>tensor(67.6900)</td>\n",
       "      <td>0.697370</td>\n",
       "      <td>tensor(0.0034)</td>\n",
       "      <td>tensor(65.1250)</td>\n",
       "      <td>79.50</td>\n",
       "      <td>50.75</td>\n",
       "    </tr>\n",
       "  </tbody>\n",
       "</table>\n",
       "</div>"
      ],
      "text/plain": [
       "   Unnamed: 0  Epoch       Train_loss  Train_acc       Test_loss  \\\n",
       "0           0      0  tensor(55.7751)   0.746188  tensor(0.0038)   \n",
       "1           1      1  tensor(60.8303)   0.740417  tensor(0.0038)   \n",
       "2           2      2  tensor(64.8106)   0.722234  tensor(0.0039)   \n",
       "3           3      3  tensor(61.2101)   0.717208  tensor(0.0040)   \n",
       "4           4      4  tensor(64.0697)   0.713393  tensor(0.0040)   \n",
       "5           5      5  tensor(66.6732)   0.699119  tensor(0.0038)   \n",
       "6           6      6  tensor(66.5678)   0.704577  tensor(0.0037)   \n",
       "7           7      7  tensor(67.8409)   0.691738  tensor(0.0035)   \n",
       "8           8      8  tensor(66.5045)   0.690874  tensor(0.0036)   \n",
       "9           9      9  tensor(67.6900)   0.697370  tensor(0.0034)   \n",
       "\n",
       "          Test_acc  Cats_Accuracy  Dogs_Accuracy  \n",
       "0      tensor(50.)           0.00         100.00  \n",
       "1      tensor(50.)           0.00         100.00  \n",
       "2      tensor(50.)           0.00         100.00  \n",
       "3  tensor(49.8750)           0.00          99.75  \n",
       "4  tensor(52.5000)           8.75          96.25  \n",
       "5  tensor(58.6250)          23.75          93.50  \n",
       "6  tensor(60.7500)          29.25          92.25  \n",
       "7  tensor(65.7500)          40.25          91.25  \n",
       "8  tensor(67.5000)          72.25          62.75  \n",
       "9  tensor(65.1250)          79.50          50.75  "
      ]
     },
     "metadata": {}
    }
   ],
   "metadata": {}
  },
  {
   "cell_type": "code",
   "execution_count": null,
   "source": [
    "df = pd.read_csv('metrics.csv')\n"
   ],
   "outputs": [],
   "metadata": {}
  },
  {
   "cell_type": "code",
   "execution_count": 18,
   "source": [
    "def check_class_wise_accuracy():\n",
    "    assert df.tail(1)['Cats_Accuracy'].item() > 70 and df.tail(1)['Dogs_Accuracy'].item() > 70, \"This model is unworthy class wise accuracy less than 70\""
   ],
   "outputs": [],
   "metadata": {}
  },
  {
   "cell_type": "code",
   "execution_count": 20,
   "source": [
    "def check_accuracy():\n",
    "    assert df.tail(1)['Train_acc'].item() > 70, \"This model is unworthy, overall accuracy less than 70\""
   ],
   "outputs": [
    {
     "output_type": "error",
     "ename": "AssertionError",
     "evalue": "This model is unworthy",
     "traceback": [
      "\u001b[0;31m---------------------------------------------------------------------------\u001b[0m",
      "\u001b[0;31mAssertionError\u001b[0m                            Traceback (most recent call last)",
      "\u001b[0;32m/var/folders/pg/tbgv3_8n2kg77xkdv85jvcb00000gn/T/ipykernel_27459/2056042228.py\u001b[0m in \u001b[0;36m<module>\u001b[0;34m\u001b[0m\n\u001b[0;32m----> 1\u001b[0;31m \u001b[0mcheck_class_wise_accuracy\u001b[0m\u001b[0;34m(\u001b[0m\u001b[0;34m)\u001b[0m\u001b[0;34m\u001b[0m\u001b[0;34m\u001b[0m\u001b[0m\n\u001b[0m",
      "\u001b[0;32m/var/folders/pg/tbgv3_8n2kg77xkdv85jvcb00000gn/T/ipykernel_27459/2667088775.py\u001b[0m in \u001b[0;36mcheck_class_wise_accuracy\u001b[0;34m()\u001b[0m\n\u001b[1;32m      1\u001b[0m \u001b[0;32mdef\u001b[0m \u001b[0mcheck_class_wise_accuracy\u001b[0m\u001b[0;34m(\u001b[0m\u001b[0;34m)\u001b[0m\u001b[0;34m:\u001b[0m\u001b[0;34m\u001b[0m\u001b[0;34m\u001b[0m\u001b[0m\n\u001b[1;32m      2\u001b[0m     \u001b[0mdf\u001b[0m \u001b[0;34m=\u001b[0m \u001b[0mpd\u001b[0m\u001b[0;34m.\u001b[0m\u001b[0mread_csv\u001b[0m\u001b[0;34m(\u001b[0m\u001b[0;34m'metrics.csv'\u001b[0m\u001b[0;34m)\u001b[0m\u001b[0;34m\u001b[0m\u001b[0;34m\u001b[0m\u001b[0m\n\u001b[0;32m----> 3\u001b[0;31m     \u001b[0;32massert\u001b[0m \u001b[0mdf\u001b[0m\u001b[0;34m.\u001b[0m\u001b[0mtail\u001b[0m\u001b[0;34m(\u001b[0m\u001b[0;36m1\u001b[0m\u001b[0;34m)\u001b[0m\u001b[0;34m[\u001b[0m\u001b[0;34m'Cats_Accuracy'\u001b[0m\u001b[0;34m]\u001b[0m\u001b[0;34m.\u001b[0m\u001b[0mitem\u001b[0m\u001b[0;34m(\u001b[0m\u001b[0;34m)\u001b[0m \u001b[0;34m>\u001b[0m \u001b[0;36m70\u001b[0m \u001b[0;32mand\u001b[0m \u001b[0mdf\u001b[0m\u001b[0;34m.\u001b[0m\u001b[0mtail\u001b[0m\u001b[0;34m(\u001b[0m\u001b[0;36m1\u001b[0m\u001b[0;34m)\u001b[0m\u001b[0;34m[\u001b[0m\u001b[0;34m'Dogs_Accuracy'\u001b[0m\u001b[0;34m]\u001b[0m\u001b[0;34m.\u001b[0m\u001b[0mitem\u001b[0m\u001b[0;34m(\u001b[0m\u001b[0;34m)\u001b[0m \u001b[0;34m>\u001b[0m \u001b[0;36m70\u001b[0m\u001b[0;34m,\u001b[0m \u001b[0;34m\"This model is unworthy\"\u001b[0m\u001b[0;34m\u001b[0m\u001b[0;34m\u001b[0m\u001b[0m\n\u001b[0m",
      "\u001b[0;31mAssertionError\u001b[0m: This model is unworthy"
     ]
    }
   ],
   "metadata": {}
  },
  {
   "cell_type": "code",
   "execution_count": 41,
   "source": [
    "import glob\n",
    "import os\n",
    "def check_pt():\n",
    "    EXTENTION = '.pt'\n",
    "    root_dir = os.getcwd()\n",
    "    print(list(glob.glob('*.pt')))\n",
    "    "
   ],
   "outputs": [],
   "metadata": {}
  },
  {
   "cell_type": "code",
   "execution_count": 42,
   "source": [
    "a = check_pt()\n"
   ],
   "outputs": [
    {
     "output_type": "stream",
     "name": "stdout",
     "text": [
      "['model_10ep_65.pt', 'model_15ep_72.pt', 'model_10ep_59.pt', 'model_2ep_98.pt']\n"
     ]
    }
   ],
   "metadata": {}
  },
  {
   "cell_type": "code",
   "execution_count": 35,
   "source": [
    "def check_pt():\n",
    "    root_dir = os.getcwd()\n",
    "    assert len(list(glob.glob('*.pt'))) == 0, \"No model Uploads on GIT\""
   ],
   "outputs": [],
   "metadata": {}
  },
  {
   "cell_type": "code",
   "execution_count": null,
   "source": [
    "def check_zip():\n",
    "    root_dir = os.getcwd()\n",
    "    assert len(list(glob.glob('*.zip'))) == 0, \"No model Uploads on GIT\""
   ],
   "outputs": [],
   "metadata": {}
  }
 ],
 "metadata": {
  "orig_nbformat": 4,
  "language_info": {
   "name": "python",
   "version": "3.8.11",
   "mimetype": "text/x-python",
   "codemirror_mode": {
    "name": "ipython",
    "version": 3
   },
   "pygments_lexer": "ipython3",
   "nbconvert_exporter": "python",
   "file_extension": ".py"
  },
  "kernelspec": {
   "name": "python3",
   "display_name": "Python 3.8.11 64-bit ('caps': conda)"
  },
  "interpreter": {
   "hash": "d964e81d6599016aee694e721ea343ca3a42c4f371ca966a53ff9f7507121df1"
  }
 },
 "nbformat": 4,
 "nbformat_minor": 2
}